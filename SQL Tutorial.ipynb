{
 "cells": [
  {
   "cell_type": "markdown",
   "metadata": {},
   "source": [
    "# 0目录\n",
    "1. SQL基础\n",
    "2. 合并"
   ]
  },
  {
   "cell_type": "markdown",
   "metadata": {},
   "source": [
    "# 1 SQL 基础\n",
    "## 1.1读取csv文件"
   ]
  },
  {
   "cell_type": "code",
   "execution_count": null,
   "metadata": {
    "collapsed": true
   },
   "outputs": [],
   "source": [
    "data  t_user_test;\n",
    "    infile 't_user_test.csv' dlm=',' firstobs = 2;\n",
    "    input uid \n",
    "        age \n",
    "        sex \n",
    "        active_date $10. \n",
    "        limit;\n",
    "run;\n",
    " \n",
    "proc print data=t_user_test;\n",
    "    title '用户数据表 t_user_test';\n",
    "run;"
   ]
  },
  {
   "cell_type": "markdown",
   "metadata": {},
   "source": [
    "## 1.2 SQL查询"
   ]
  },
  {
   "cell_type": "code",
   "execution_count": null,
   "metadata": {
    "collapsed": true
   },
   "outputs": [],
   "source": [
    "proc sql;\n",
    "    title 'SQL 查询';\n",
    "    select uid, age, sex, active_date, limit as money\n",
    "        from t_user_test\n",
    "        where active_date > '2016-03-01'\n",
    "        order by active_date desc; /* 默认升序asce */\n",
    "quit;"
   ]
  },
  {
   "cell_type": "markdown",
   "metadata": {},
   "source": [
    "## 1.3 group by"
   ]
  },
  {
   "cell_type": "code",
   "execution_count": null,
   "metadata": {
    "collapsed": true
   },
   "outputs": [],
   "source": [
    "proc sql;\n",
    "    title 'group by';\n",
    "    select age, sum(limit) as money /*Group by 若不与sum()连用，sas会将其变换为order by*/\n",
    "        from t_user_test\n",
    "        group by age\n",
    "        having money > 100 /*Having限定输出的观测*/\n",
    "        order by money desc;\n",
    "quit;"
   ]
  },
  {
   "cell_type": "markdown",
   "metadata": {},
   "source": [
    "# 2 SQL 合并\n",
    "## 2.1 准备数据"
   ]
  },
  {
   "cell_type": "code",
   "execution_count": null,
   "metadata": {
    "collapsed": true
   },
   "outputs": [],
   "source": [
    "data  t_user;\n",
    "    infile 't_user.csv' dlm=',' firstobs = 101 obs = 200;\n",
    "    input uid \n",
    "        age \n",
    "        sex \n",
    "        active_date $10. \n",
    "        limit;\n",
    "run;\n",
    " \n",
    "proc print data=t_user;\n",
    "    title '用户数据表 t_user';\n",
    "run;"
   ]
  },
  {
   "cell_type": "code",
   "execution_count": null,
   "metadata": {
    "collapsed": true
   },
   "outputs": [],
   "source": [
    "data  t_loan_sum;\n",
    "    infile 't_loan_sum.csv' dlm=',' firstobs = 2;\n",
    "    input uid \n",
    "        month $\n",
    "        loan_sum;\n",
    "run;\n",
    "\n",
    "proc print data=t_loan_sum;\n",
    "    title '贷款总金额表 t_loan_sum';\n",
    "run;"
   ]
  },
  {
   "cell_type": "markdown",
   "metadata": {},
   "source": [
    "## 2.2  合并\n",
    "### 横向合并"
   ]
  },
  {
   "cell_type": "code",
   "execution_count": null,
   "metadata": {
    "collapsed": true
   },
   "outputs": [],
   "source": [
    "proc sql;\n",
    "title '横向合并 join';\n",
    "    select u.uid, age, sex, active_date, limit, month, loan_sum \n",
    "        from t_user as u\n",
    "        inner join t_loan_sum as l\n",
    "        on t_user.uid = t_loan_sum.uid\n",
    "        order by uid;\n",
    "quit;"
   ]
  },
  {
   "cell_type": "markdown",
   "metadata": {},
   "source": [
    "how about merge?\n",
    "用in来控制非交集行"
   ]
  },
  {
   "cell_type": "code",
   "execution_count": null,
   "metadata": {
    "collapsed": true
   },
   "outputs": [],
   "source": [
    "proc sort data = t_user;\n",
    "    by uid;\n",
    "run;\n",
    "\n",
    "proc sort data = t_loan_sum;\n",
    "    by uid;\n",
    "run;\n",
    "\n",
    "data merge1;\n",
    "    merge t_user(in = x) t_loan_sum(in = y);\n",
    "    by uid;\n",
    "    if x=1 and y=1; /*用if 非where*/\n",
    "run;\n",
    "\n",
    "proc print data = merge1;\n",
    "    title 'merge';\n",
    "run;"
   ]
  },
  {
   "cell_type": "markdown",
   "metadata": {},
   "source": [
    "### 纵向合并"
   ]
  },
  {
   "cell_type": "code",
   "execution_count": 1,
   "metadata": {
    "collapsed": false
   },
   "outputs": [
    {
     "data": {
      "text/html": [
       "<!DOCTYPE html PUBLIC \"-//W3C//DTD HTML 4.01//EN\"\n",
       "   \"http://www.w3.org/TR/html4/strict.dtd\">\n",
       "\n",
       "<html>\n",
       "<head>\n",
       "  <title></title>\n",
       "  <meta http-equiv=\"content-type\" content=\"text/html; charset=None\">\n",
       "  <style type=\"text/css\">\n",
       "td.linenos { background-color: #f0f0f0; padding-right: 10px; }\n",
       "span.lineno { background-color: #f0f0f0; padding: 0 5px 0 5px; }\n",
       "pre { line-height: 125%; }\n",
       "body .hll { background-color: #ffffcc }\n",
       "body  { background: #ffffff; }\n",
       "body .c { color: #0000FF } /* Comment */\n",
       "body .k { color: #ff0000; font-weight: bold } /* Keyword */\n",
       "body .n { color: #008000 } /* Name */\n",
       "body .ch { color: #0000FF } /* Comment.Hashbang */\n",
       "body .cm { color: #0000FF } /* Comment.Multiline */\n",
       "body .cp { color: #0000FF } /* Comment.Preproc */\n",
       "body .cpf { color: #0000FF } /* Comment.PreprocFile */\n",
       "body .c1 { color: #0000FF } /* Comment.Single */\n",
       "body .cs { color: #0000FF } /* Comment.Special */\n",
       "body .kc { color: #ff0000; font-weight: bold } /* Keyword.Constant */\n",
       "body .kd { color: #ff0000; font-weight: bold } /* Keyword.Declaration */\n",
       "body .kn { color: #ff0000; font-weight: bold } /* Keyword.Namespace */\n",
       "body .kp { color: #ff0000; font-weight: bold } /* Keyword.Pseudo */\n",
       "body .kr { color: #ff0000; font-weight: bold } /* Keyword.Reserved */\n",
       "body .kt { color: #ff0000; font-weight: bold } /* Keyword.Type */\n",
       "body .s { color: #111111 } /* Literal.String */\n",
       "body .na { color: #008000 } /* Name.Attribute */\n",
       "body .nb { color: #008000 } /* Name.Builtin */\n",
       "body .nc { color: #008000 } /* Name.Class */\n",
       "body .no { color: #008000 } /* Name.Constant */\n",
       "body .nd { color: #008000 } /* Name.Decorator */\n",
       "body .ni { color: #008000 } /* Name.Entity */\n",
       "body .ne { color: #008000 } /* Name.Exception */\n",
       "body .nf { color: #008000 } /* Name.Function */\n",
       "body .nl { color: #008000 } /* Name.Label */\n",
       "body .nn { color: #008000 } /* Name.Namespace */\n",
       "body .nx { color: #008000 } /* Name.Other */\n",
       "body .py { color: #008000 } /* Name.Property */\n",
       "body .nt { color: #008000 } /* Name.Tag */\n",
       "body .nv { color: #008000 } /* Name.Variable */\n",
       "body .sb { color: #111111 } /* Literal.String.Backtick */\n",
       "body .sc { color: #111111 } /* Literal.String.Char */\n",
       "body .sd { color: #111111 } /* Literal.String.Doc */\n",
       "body .s2 { color: #111111 } /* Literal.String.Double */\n",
       "body .se { color: #111111 } /* Literal.String.Escape */\n",
       "body .sh { color: #111111 } /* Literal.String.Heredoc */\n",
       "body .si { color: #111111 } /* Literal.String.Interpol */\n",
       "body .sx { color: #111111 } /* Literal.String.Other */\n",
       "body .sr { color: #111111 } /* Literal.String.Regex */\n",
       "body .s1 { color: #111111 } /* Literal.String.Single */\n",
       "body .ss { color: #111111 } /* Literal.String.Symbol */\n",
       "body .bp { color: #008000 } /* Name.Builtin.Pseudo */\n",
       "body .vc { color: #008000 } /* Name.Variable.Class */\n",
       "body .vg { color: #008000 } /* Name.Variable.Global */\n",
       "body .vi { color: #008000 } /* Name.Variable.Instance */\n",
       "\n",
       "  </style>\n",
       "</head>\n",
       "<body>\n",
       "<h2></h2>\n",
       "\n",
       "<div class=\"highlight\"><pre><span></span><span class=\"s\">11   ods listing close;ods html5 file=stdout options(bitmap_mode=&#39;inline&#39;) device=png; ods graphics on / outputfmt=png;</span><br><span class=\"cm\">NOTE: Writing HTML5 Body file: STDOUT</span><br><span class=\"s\">12   </span><br><span class=\"s\">13   proc sql;</span><br><span class=\"s\">14   title &#39;纵向合并 union&#39;;</span><br><span class=\"s\">15   select *</span><br><span class=\"s\">16   from t_user_test</span><br><span class=\"s\">17   union</span><br><span class=\"s\">18   select *</span><br><span class=\"s\">19   from t_user;</span><br><span class=\"k k-Multiline\">ERROR: File WORK.T_USER_TEST.DATA does not exist.</span><br><span class=\"k k-Multiline\">ERROR: File WORK.T_USER.DATA does not exist.</span><br><span class=\"cm\">NOTE: PROC SQL set option NOEXEC and will continue to check the syntax of statements.</span><br><span class=\"n n-Multiline\">WARNING: This SAS global statement is not supported in PROC SQL. It has been ignored.</span><br><span class=\"s\">20   where active_date &gt; &#39;2016-03-01&#39;</span><br><span class=\"s\">21       order by active_date desc; /* 默认升序asce */</span><br><span class=\"s\">22   quit;</span><br><span class=\"cm\">NOTE: The SAS System stopped processing this step because of errors.</span><br><span class=\"cm\">NOTE: PROCEDURE SQL used (Total process time):</span><br><span class=\"cm\">      real time           0.00 seconds</span><br><span class=\"cm\">      cpu time            0.00 seconds</span><br><span class=\"cm\">      </span><br><span class=\"s\">23   ods html5 close;ods listing;</span><br><br><span class=\"s\">24   </span><br></pre></div>\n",
       "</body>\n",
       "</html>\n"
      ],
      "text/plain": [
       "<IPython.core.display.HTML object>"
      ]
     },
     "execution_count": 1,
     "metadata": {},
     "output_type": "execute_result"
    }
   ],
   "source": [
    "proc sql;\n",
    "    title '纵向合并 union';\n",
    "    select * from t_user_test\n",
    "        union \n",
    "        select * from t_user;\n",
    "        where active_date > '2016-03-01'\n",
    "            order by active_date desc; /* 默认升序asce */\n",
    "quit;"
   ]
  },
  {
   "cell_type": "markdown",
   "metadata": {},
   "source": [
    "how about set\n",
    "1. 双set，后表覆盖前表\n",
    "2. 单set，前执行前表，在执行后表，不覆盖"
   ]
  },
  {
   "cell_type": "code",
   "execution_count": null,
   "metadata": {
    "collapsed": true
   },
   "outputs": [],
   "source": [
    "data set1;\n",
    "    set t_user_test;\n",
    "    set t_user;\n",
    "run;\n",
    "\n",
    "proc print data = set1;\n",
    "    title '双set，后表覆盖前表';\n",
    "run;"
   ]
  },
  {
   "cell_type": "code",
   "execution_count": null,
   "metadata": {
    "collapsed": true
   },
   "outputs": [],
   "source": [
    "data set1;\n",
    "    set t_user_test t_user;\n",
    "run;\n",
    "\n",
    "proc print data = set1;\n",
    "    title '单set，前执行前表，在执行后表，不覆盖';\n",
    "run;"
   ]
  }
 ],
 "metadata": {
  "kernelspec": {
   "display_name": "SAS",
   "language": "sas",
   "name": "sas"
  },
  "language_info": {
   "codemirror_mode": "sas",
   "file_extension": ".sas",
   "mimetype": "text/x-sas",
   "name": "sas"
  }
 },
 "nbformat": 4,
 "nbformat_minor": 0
}
